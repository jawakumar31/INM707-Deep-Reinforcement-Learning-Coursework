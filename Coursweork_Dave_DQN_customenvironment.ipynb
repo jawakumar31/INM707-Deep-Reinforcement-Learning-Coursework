{
  "cells": [
    {
      "cell_type": "code",
      "execution_count": 1,
      "metadata": {
        "id": "hj1hcWEoFBIH"
      },
      "outputs": [],
      "source": [
        "import numpy as np\n",
        "import matplotlib.pyplot as plt\n",
        "import itertools\n",
        "import pandas as pd\n",
        "import random"
      ]
    },
    {
      "cell_type": "code",
      "execution_count": 2,
      "metadata": {
        "id": "eG47T5QpFEJ9"
      },
      "outputs": [],
      "source": [
        "import numpy as np\n",
        "from collections import namedtuple\n",
        "\n",
        "# COnvenient data structure to hold information about actions\n",
        "Action = namedtuple('Action', 'name index delta_i delta_j')\n",
        "    \n",
        "right = Action('right', 0, 0, 1)    \n",
        "left = Action('left', 1, 0, -1)    \n",
        "jump = Action('jump', 2, -2, 0)    \n",
        "rightjump = Action('rightjump', 3, -2, 1)    \n",
        "leftjump = Action('leftjump', 4, -2, -1)   \n",
        "longrightjump = Action('longrightjump', 5, -2, 2)    \n",
        "longleftjump = Action('longleftjump', 6, -2, -2)   \n",
        "\n",
        "\n",
        "actions_move = {'right':(0,1),'left':(0,-1),'jump':(-2,0),'rightjump':(-2,1),'leftjump':(-2,-1),'longrightjump':(-2,2),'longleftjump':(-2,-2)}\n",
        "# action_index = {'right':0,'left':1,'jump':2,'rightjump':3,'leftjump':4}\n",
        "\n",
        "\n",
        "index_to_actions = {}\n",
        "for action in [right, left, jump, rightjump, leftjump, longrightjump, longleftjump]:\n",
        "    index_to_actions[action.index] = action\n",
        "\n",
        "str_to_actions = {}\n",
        "for action in [right, left, jump, rightjump, leftjump, longrightjump, longleftjump]:\n",
        "    str_to_actions[action.name] = action\n",
        "\n",
        "class Dangerous_Dave:\n",
        "    \n",
        "    def __init__(self):\n",
        "        \n",
        "        # Numpy array that holds the information about the environment\n",
        "        self.level1_davegame = np.zeros((8, 17), dtype = np.int8)\n",
        "        self.size = self.level1_davegame .shape\n",
        "        \n",
        "        # Bricks are obstacles\n",
        "        self.level1_davegame [0, :] = 1\n",
        "        self.level1_davegame [-1, :] = 1\n",
        "        self.level1_davegame [:, 0] = 1\n",
        "        self.level1_davegame [:, -1] = 1\n",
        "        \n",
        "#         self.level1_davegame  = np.zeros((8,17))\n",
        "        self.level1_davegame [0,:] = 0\n",
        "        self.level1_davegame [1,:] = 0\n",
        "        self.level1_davegame [2,:] = 0\n",
        "        self.level1_davegame [2,2::4] = 1\n",
        "        self.level1_davegame [3,:] = 0\n",
        "        self.level1_davegame [4,:] = 0\n",
        "        self.level1_davegame [4,::4] = 1\n",
        "        self.level1_davegame [5,:] = 0\n",
        "        self.level1_davegame [6,:] = 0\n",
        "        self.level1_davegame [6,3:7] = 1\n",
        "        self.level1_davegame [6,11:16] = 1\n",
        "        self.level1_davegame [7,:] = 0\n",
        "        self.level1_davegame [7,11] = 1\n",
        "        self.level1_davegame [7,0] = 1\n",
        "\n",
        "        self.level1_davegame [5,0] = 2\n",
        "        self.level1_davegame [3,0] = 2\n",
        "        self.level1_davegame [1,2] = 2\n",
        "        self.level1_davegame [1,6] = 2\n",
        "        self.level1_davegame [1,14] = 2\n",
        "        self.level1_davegame [3,4] = 2\n",
        "        self.level1_davegame [3,8] = 2\n",
        "        self.level1_davegame [3,12] = 2\n",
        "        self.level1_davegame [3,16] = 2\n",
        "        \n",
        "        \n",
        "                \n",
        "        # initial position of the agent is always constant.\n",
        "        self.position_agent = np.array((7,1))\n",
        "        \n",
        "        # run time\n",
        "        self.time_elapsed = 0\n",
        "        self.time_limit = self.size[0]*self.size[1]\n",
        "        \n",
        "        # display help\n",
        "        self.dict_map_display={ 0:'.',\n",
        "                                1:'X',\n",
        "                                2:'D',\n",
        "                                5:'K',\n",
        "                                3:'E',\n",
        "                                4:'A'}\n",
        "        \n",
        "        # position of the key\n",
        "        self.position_exit = np.array((1,10))\n",
        "        self.level1_davegame [self.position_exit[0], self.position_exit[1]] = 5\n",
        "    \n",
        "\n",
        "        \n",
        "    \n",
        "    \n",
        "    def step(self, action):\n",
        "        \n",
        "        # At every timestep, the agent receives a negative reward\n",
        "        reward = -1\n",
        "        bump = False\n",
        "        key_obtained = False\n",
        "        \n",
        "        def get_available_actions(state):\n",
        "            available_actions = []\n",
        "            for i in actions_move:\n",
        "              ## Checks the surrounding of the agent's state and gets you the avialable moves\n",
        "              if (state[0]+actions_move[i][0]) in range(self.level1_davegame .shape[0]) \\\n",
        "                and (state[1]+actions_move[i][1]) in range(self.level1_davegame .shape[1]) \\\n",
        "                and self.level1_davegame [(state[0]+actions_move[i][0],state[1]+actions_move[i][1])] != 1 :\n",
        "                    ## Checks if there's a wall above the agent's head to prevent it from making a jump move\n",
        "                    if ((self.level1_davegame [state[0]-1,state[1]] == 1) and (i in ['jump','rightjump','leftjump',\n",
        "                                                                                     'longrightjump','longlefttjump'])) :\n",
        "                        pass\n",
        "                    else:\n",
        "                        available_actions.append(i)\n",
        "            return available_actions\n",
        "\n",
        "        def gravity_update_state(move_state):\n",
        "            ## Returns the same state if the agent is already standing on brick\n",
        "            if move_state[0] == self.level1_davegame .shape[0]-1:\n",
        "                return move_state\n",
        "            ## Returns the state above the brick if the agent is in a higher state from the brick\n",
        "            gravity_check = [(i,move_state[1]) for i in range(move_state[0],self.level1_davegame .shape[0])]\n",
        "            for gravity in range(1,len(gravity_check)):\n",
        "                if self.level1_davegame [gravity_check[gravity]] == 1 :\n",
        "                    return gravity_check[gravity-1]\n",
        "            return gravity_check[gravity]\n",
        "    \n",
        "    \n",
        "        available_actions = get_available_actions((self.position_agent[0],self.position_agent[1]))\n",
        "        \n",
        "        if action in available_actions :\n",
        "            move_state = (self.position_agent[0]+actions_move[action][0],\n",
        "                          self.position_agent[1]+actions_move[action][1])\n",
        "            next_position = gravity_update_state((move_state[0],move_state[1]))\n",
        "            \n",
        "        else:\n",
        "            bump = True\n",
        "            next_position = (self.position_agent[0],self.position_agent[1])\n",
        "       \n",
        "        # If the agent bumps into a brick, it doesn't move\n",
        "        if self.level1_davegame [next_position[0], next_position[1]] == 1:\n",
        "            bump = True\n",
        "        else:\n",
        "            self.position_agent = next_position\n",
        "        \n",
        "        # calculate reward\n",
        "        current_cell_type = self.level1_davegame [self.position_agent[0], self.position_agent[1]]\n",
        "\n",
        "        ## For reaching the diamond\n",
        "        if current_cell_type == 2:\n",
        "            self.level1_davegame [self.position_agent[0], self.position_agent[1]] = 0\n",
        "            reward += self.size[0]*self.size[1]/4\n",
        "        \n",
        "        ## For reaching the door\n",
        "        if current_cell_type == 3:\n",
        "            reward += self.size[0]*self.size[1]\n",
        "\n",
        "        ## For reaching the key\n",
        "        if current_cell_type == 5:\n",
        "            reward += self.size[0]*self.size[1]/2\n",
        "            \n",
        "        if bump:\n",
        "            reward -= 20\n",
        "        \n",
        "        # calculate observations\n",
        "        observations = self.calculate_observations()\n",
        "        \n",
        "        # update time\n",
        "        self.time_elapsed += 1\n",
        "        \n",
        "        # verify termination condition\n",
        "        done = False\n",
        "        \n",
        "        if self.time_elapsed == self.time_limit:\n",
        "            done = True\n",
        "        \n",
        "        if (self.position_agent == self.position_exit).all():\n",
        "            self.level1_davegame [self.position_exit[0], self.position_exit[1]] = 0\n",
        "            self.position_exit = np.array((7,12))\n",
        "            key_obtained = True\n",
        "\n",
        "        if (self.position_agent == self.position_exit).all() and key_obtained==True:\n",
        "            done = True\n",
        "            \n",
        "\n",
        "            key_obtained\n",
        "        return observations, reward, done\n",
        "\n",
        "    def display(self):\n",
        "        \n",
        "        envir_with_agent = self.level1_davegame .copy()\n",
        "        envir_with_agent[self.position_agent[0], self.position_agent[1]] = 4\n",
        "        \n",
        "        full_repr = \"\"\n",
        "\n",
        "        for r in range(self.size[0]):\n",
        "            \n",
        "            line = \"\"\n",
        "            \n",
        "            for c in range(self.size[1]):\n",
        "\n",
        "                string_repr = self.dict_map_display[ envir_with_agent[r,c] ]\n",
        "                \n",
        "                line += \"{0:2}\".format(string_repr)\n",
        "\n",
        "            full_repr += line + \"\\n\"\n",
        "\n",
        "        print(full_repr)\n",
        "\n",
        "        \n",
        "    def calculate_observations(self):\n",
        "      \n",
        "        relative_coordinates = self.position_exit - self.position_agent\n",
        "                \n",
        "        dungeon_padded = np.pad(self.level1_davegame , pad_width=2,constant_values=1)\n",
        "        surroundings = dungeon_padded[self.position_agent[0] + 2 -2: self.position_agent[0]+ 2 +3,\n",
        "                                             self.position_agent[1]+ 2 -2: self.position_agent[1]+ 2 +3]\n",
        "        \n",
        "        obs = {'relative_coordinates':relative_coordinates,\n",
        "               'surroundings': surroundings}\n",
        "               \n",
        "        return obs\n",
        "        \n",
        "    def reset(self):\n",
        "        \"\"\"\n",
        "        This function resets the environment to its original state (time = 0).\n",
        "        Then it places the agent and exit at new random locations.\n",
        "        \n",
        "        It is common practice to return the observations, \n",
        "        so that the agent can decide on the first action right after the resetting of the environment.\n",
        "        \n",
        "        \"\"\"\n",
        "        self.time_elapsed = 0\n",
        "        \n",
        "        # position of the agent is a numpy array\n",
        "        self.position_agent = np.array((7,1))\n",
        "        \n",
        "        # Calculate observations\n",
        "        observations = self.calculate_observations()\n",
        "        \n",
        "        return observations\n",
        "\n",
        "    \n",
        "def run_single_exp(envir, policy):\n",
        "    \n",
        "    obs = envir.reset()\n",
        "    done = False\n",
        "    \n",
        "    total_reward = 0\n",
        "    \n",
        "    while not done:\n",
        "        \n",
        "        action = policy(obs)\n",
        "        obs, reward, done = envir.step(action)\n",
        "        \n",
        "        total_reward += reward\n",
        "    \n",
        "    return total_reward"
      ]
    },
    {
      "cell_type": "code",
      "execution_count": 4,
      "metadata": {
        "colab": {
          "base_uri": "https://localhost:8080/"
        },
        "id": "ThJCUlbexvAQ",
        "outputId": "51043d63-ac1c-4a6f-b42c-bd740c28c21b"
      },
      "outputs": [
        {
          "name": "stdout",
          "output_type": "stream",
          "text": [
            ". . . . . . . . . . . . . . . . . \n",
            ". . D . . . D . . . K . . . D . . \n",
            ". . X . . . X . . . X . . . X . . \n",
            "D . . . D . . . D . . . D . . . D \n",
            "X . . . X . . . X . . . X . . . X \n",
            "D . . . . . . . . . . . . . . . . \n",
            ". . . X X X X . . . . X X X X X . \n",
            "X A . . . . . . . . . X . . . . . \n",
            "\n"
          ]
        }
      ],
      "source": [
        "dave_level1 = Dangerous_Dave()\n",
        "state = dave_level1.reset()\n",
        "dave_level1.display()"
      ]
    },
    {
      "cell_type": "code",
      "execution_count": null,
      "metadata": {
        "id": "3HCEArNvFy_f"
      },
      "outputs": [],
      "source": [
        "from collections import namedtuple\n",
        "\n",
        "Transition = namedtuple('Transition', ('state', 'action', 'next_state', 'reward'))"
      ]
    },
    {
      "cell_type": "code",
      "execution_count": null,
      "metadata": {
        "id": "SoaGTdSIF2M2"
      },
      "outputs": [],
      "source": [
        "def convert_state(state):\n",
        "    \n",
        "    c = state['relative_coordinates'].flatten()/17\n",
        "    o = state['surroundings'].flatten()/4.\n",
        "    state_tensor = np.concatenate( [c,o] )\n",
        "    state_tensor = torch.tensor(state_tensor, device=device).unsqueeze(0)\n",
        "    \n",
        "    return state_tensor\n",
        "    \n",
        "\n",
        "class ReplayMemory:\n",
        "\n",
        "    def __init__(self, capacity):\n",
        "        self.capacity = capacity\n",
        "        self.memory = []\n",
        "        self.position = 0\n",
        "\n",
        "    def push(self, state, action, next_state, reward):\n",
        "        \"\"\"Saves a transition.\"\"\"\n",
        "        if len(self.memory) < self.capacity:\n",
        "            self.memory.append(None)\n",
        "        \n",
        "        state_tensor = convert_state(state)\n",
        "        \n",
        "        if next_state is None:\n",
        "            state_tensor_next = None            \n",
        "        else:\n",
        "            state_tensor_next = convert_state(next_state)\n",
        "            \n",
        "        action_tensor = torch.tensor([action], device=device).unsqueeze(0)\n",
        "\n",
        "        reward = torch.tensor([reward], device=device).unsqueeze(0)/10. # reward scaling\n",
        "\n",
        "        self.memory[self.position] = Transition(state_tensor, action_tensor, state_tensor_next, reward)\n",
        "        self.position = (self.position + 1) % self.capacity\n",
        "\n",
        "    def sample(self, batch_size):\n",
        "        return random.sample(self.memory, batch_size)\n",
        "\n",
        "    def __len__(self):\n",
        "        return len(self.memory)"
      ]
    },
    {
      "cell_type": "code",
      "execution_count": null,
      "metadata": {
        "id": "A4GonyyFF4Ug"
      },
      "outputs": [],
      "source": [
        "import torch\n",
        "import torch.nn as nn\n",
        "import torch.optim as optim\n",
        "import torch.nn.functional as F\n",
        "\n",
        "# if gpu is to be used\n",
        "device = torch.device(\"cuda\" if torch.cuda.is_available() else \"cpu\")\n",
        "\n",
        "class DQN(nn.Module):\n",
        "\n",
        "    def __init__(self, input_size, size_hidden, output_size):\n",
        "        \n",
        "        super().__init__()\n",
        "        \n",
        "        self.fc1 = nn.Linear(input_size, size_hidden)\n",
        "        self.bn1 = nn.BatchNorm1d(size_hidden)\n",
        "        \n",
        "        self.fc2 = nn.Linear(size_hidden, size_hidden)   \n",
        "        self.bn2 = nn.BatchNorm1d(size_hidden)\n",
        "\n",
        "        self.fc3 = nn.Linear(size_hidden, size_hidden)  \n",
        "        self.bn3 = nn.BatchNorm1d(size_hidden)\n",
        "\n",
        "        self.fc4 = nn.Linear(size_hidden, output_size)\n",
        "        \n",
        "        \n",
        "    def forward(self, x):\n",
        "        h1 = F.relu(self.bn1(self.fc1(x.float())))\n",
        "        h2 = F.relu(self.bn2(self.fc2(h1)))\n",
        "        h3 = F.relu(self.bn3(self.fc3(h2)))\n",
        "        output = self.fc4(h3.view(h3.size(0), -1))\n",
        "        return output\n",
        "    "
      ]
    },
    {
      "cell_type": "code",
      "execution_count": null,
      "metadata": {
        "colab": {
          "base_uri": "https://localhost:8080/"
        },
        "id": "RAtTDULUGBwb",
        "outputId": "8a2f9a32-833e-472c-e3c1-11ef6fc12a91"
      },
      "outputs": [
        {
          "data": {
            "text/plain": [
              "device(type='cuda')"
            ]
          },
          "execution_count": 6,
          "metadata": {},
          "output_type": "execute_result"
        }
      ],
      "source": [
        "device"
      ]
    },
    {
      "cell_type": "code",
      "execution_count": null,
      "metadata": {
        "id": "n6Fk9sDfGCaX"
      },
      "outputs": [],
      "source": [
        "OBS_SIZE = 5*5 + 2\n",
        "HIDDEN_SIZE = 128\n",
        "ACTION_SIZE = 7\n",
        "\n",
        "Q_network = DQN(OBS_SIZE, HIDDEN_SIZE, ACTION_SIZE).to(device)\n",
        "Q_target = DQN(OBS_SIZE, HIDDEN_SIZE, ACTION_SIZE).to(device)\n",
        "Q_target.load_state_dict(Q_network.state_dict())\n",
        "Q_target.eval()\n",
        "\n",
        "TARGET_UPDATE = 100\n",
        "\n",
        "optimizer = optim.SGD(Q_network.parameters(), lr=0.1)\n",
        "memory = ReplayMemory(10000)\n"
      ]
    },
    {
      "cell_type": "code",
      "execution_count": null,
      "metadata": {
        "id": "o9JpluOnGGs5"
      },
      "outputs": [],
      "source": [
        "class E_Greedy_Policy():\n",
        "    \n",
        "    def __init__(self, epsilon, decay, min_epsilon):\n",
        "        \n",
        "        self.epsilon = epsilon\n",
        "        self.epsilon_start = epsilon\n",
        "        self.decay = decay\n",
        "        self.epsilon_min = min_epsilon\n",
        "                \n",
        "    def __call__(self, state):\n",
        "                \n",
        "        is_greedy = random.random() > self.epsilon\n",
        "        \n",
        "        if is_greedy :\n",
        "            # we select greedy action\n",
        "            with torch.no_grad():\n",
        "                Q_network.eval()\n",
        "                # index of the maximum over dimension 1.\n",
        "                index_action = Q_network(state).max(1)[1].view(1, 1).cpu()[0][0].item()\n",
        "                \n",
        "                Q_network.train()\n",
        "        else:\n",
        "            # we sample a random action\n",
        "            index_action = random.randint(0,6)\n",
        "#             print(index_action)\n",
        "        \n",
        "        return index_action\n",
        "                \n",
        "    def update_epsilon(self):\n",
        "        \n",
        "        self.epsilon = self.epsilon*self.decay\n",
        "        if self.epsilon < self.epsilon_min:\n",
        "            self.epsilon = self.epsilon_min\n",
        "        \n",
        "    def reset(self):\n",
        "        self.epsilon = self.epsilon_start\n",
        "        \n",
        "        \n",
        "policy = E_Greedy_Policy(0.99, decay=0.997, min_epsilon=0.001)"
      ]
    },
    {
      "cell_type": "code",
      "execution_count": null,
      "metadata": {
        "id": "_dIzM6bDGIZ1"
      },
      "outputs": [],
      "source": [
        "BATCH_SIZE = 256\n",
        "GAMMA = 0.5\n",
        "\n",
        "def optimize_model():\n",
        "    \n",
        "    transitions = memory.sample(BATCH_SIZE)\n",
        "    batch = Transition(*zip(*transitions))\n",
        "\n",
        "    # Compute a mask of non-final states and concatenate the batch elements\n",
        "    non_final_mask = torch.tensor(tuple(map(lambda s: s is not None,\n",
        "                                          batch.next_state)), device=device, dtype=torch.bool)\n",
        "    non_final_next_states = torch.cat([s for s in batch.next_state\n",
        "                                                if s is not None])\n",
        "    \n",
        "    state_batch = torch.cat(batch.state)\n",
        "    action_batch = torch.cat(batch.action)\n",
        "    reward_batch = torch.cat(batch.reward)\n",
        "    \n",
        "    # Compute Q values using policy net\n",
        "    Q_values = Q_network(state_batch).gather(1, action_batch)\n",
        "\n",
        "    # Compute next Q values using Q_targets\n",
        "    next_Q_values = torch.zeros( BATCH_SIZE, device=device)\n",
        "    next_Q_values[non_final_mask] = Q_target(non_final_next_states).max(1)[0].detach()\n",
        "    next_Q_values = next_Q_values.unsqueeze(1)\n",
        "    \n",
        "    # Compute targets\n",
        "    target_Q_values = (next_Q_values * GAMMA) + reward_batch\n",
        "    \n",
        "    # Compute MSE Loss\n",
        "    loss = F.mse_loss(Q_values, target_Q_values)\n",
        "    \n",
        "    # Optimize the model\n",
        "    optimizer.zero_grad()\n",
        "    loss.backward()\n",
        "    \n",
        "    # Trick: gradient clipping\n",
        "    for param in Q_network.parameters():\n",
        "        param.grad.data.clamp_(-1, 1)\n",
        "        \n",
        "    optimizer.step()\n",
        "    \n",
        "    return loss"
      ]
    },
    {
      "cell_type": "code",
      "execution_count": null,
      "metadata": {
        "colab": {
          "base_uri": "https://localhost:8080/"
        },
        "id": "EB2nwIWdGJoh",
        "outputId": "3c7d3cac-5757-47df-9445-4b50fd52a284"
      },
      "outputs": [
        {
          "name": "stdout",
          "output_type": "stream",
          "text": [
            "Done with the warmup\n",
            "Episode  0 :  reward : -780.0 eps:  0.98703  loss: tensor(0.0149)\n",
            "-78.0\n",
            "Episode  10 :  reward : -454.0 eps:  0.9578156659018894  loss: tensor(0.0522)\n",
            "-387.4\n",
            "Episode  20 :  reward : -692.0 eps:  0.9294660241807036  loss: tensor(0.1410)\n",
            "-464.2\n",
            "Episode  30 :  reward : -278.0 eps:  0.9019554814785994  loss: tensor(0.0945)\n",
            "-378.8\n",
            "Episode  40 :  reward : -384.0 eps:  0.8752592019556485  loss: tensor(0.1045)\n",
            "-391.8\n",
            "Episode  50 :  reward : -204.0 eps:  0.8493530848686524  loss: tensor(0.1143)\n",
            "-278.8\n",
            "Episode  60 :  reward : -310.0 eps:  0.8242137428135844  loss: tensor(0.1236)\n",
            "-280.4\n",
            "Episode  70 :  reward : -358.0 eps:  0.79981848061202  loss: tensor(0.1164)\n",
            "-216.0\n",
            "Episode  80 :  reward : -390.0 eps:  0.776145274822487  loss: tensor(0.1657)\n",
            "-213.4\n",
            "Episode  90 :  reward : -312.0 eps:  0.7531727538582468  loss: tensor(0.1468)\n",
            "-232.0\n",
            "Episode  100 :  reward : -92.0 eps:  0.7308801786935519  loss: tensor(0.0927)\n",
            "-201.0\n",
            "Episode  110 :  reward : -190.0 eps:  0.7092474241409645  loss: tensor(0.1942)\n",
            "-186.4\n",
            "Episode  120 :  reward : 8.0 eps:  0.688254960682834  loss: tensor(0.1252)\n",
            "-97.4\n",
            "Episode  130 :  reward : -230.0 eps:  0.667883836840529  loss: tensor(0.1712)\n",
            "-184.6\n",
            "Episode  140 :  reward : -78.0 eps:  0.6481156620655096  loss: tensor(0.1995)\n",
            "-81.2\n",
            "Episode  150 :  reward : 70.0 eps:  0.6289325901367944  loss: tensor(0.1164)\n",
            "-90.0\n",
            "Episode  160 :  reward : -110.0 eps:  0.61031730304983  loss: tensor(0.1409)\n",
            "-124.4\n",
            "Episode  170 :  reward : -210.0 eps:  0.5922529953822255  loss: tensor(0.1294)\n",
            "-183.6\n",
            "Episode  180 :  reward : 10.0 eps:  0.5747233591222303  loss: tensor(0.1940)\n",
            "-122.8\n",
            "Episode  190 :  reward : 70.0 eps:  0.5577125689462629  loss: tensor(0.0763)\n",
            "-73.2\n",
            "Episode  200 :  reward : -272.0 eps:  0.5412052679321988  loss: tensor(0.0539)\n",
            "-100.8\n",
            "Episode  210 :  reward : -70.0 eps:  0.5251865536955204  loss: tensor(0.0700)\n",
            "-58.4\n",
            "Episode  220 :  reward : 50.0 eps:  0.5096419649358108  loss: tensor(0.0450)\n",
            "-21.0\n",
            "Episode  230 :  reward : 42.0 eps:  0.4945574683814483  loss: tensor(0.0609)\n",
            "-15.8\n",
            "Episode  240 :  reward : 30.0 eps:  0.4799194461207152  loss: tensor(0.1009)\n",
            "15.6\n",
            "Episode  250 :  reward : 22.0 eps:  0.46571468330788196  loss: tensor(0.0547)\n",
            "42.4\n",
            "Episode  260 :  reward : 10.0 eps:  0.4519303562331707  loss: tensor(0.0486)\n",
            "1.8\n",
            "Episode  270 :  reward : 110.0 eps:  0.43855402074582583  loss: tensor(0.1042)\n",
            "31.2\n",
            "Episode  280 :  reward : 2.0 eps:  0.4255736010198415  loss: tensor(0.0812)\n",
            "26.8\n",
            "Episode  290 :  reward : 150.0 eps:  0.4129773786522035  loss: tensor(0.0850)\n",
            "77.2\n",
            "Episode  300 :  reward : 22.0 eps:  0.4007539820838039  loss: tensor(0.1104)\n",
            "15.2\n",
            "Episode  310 :  reward : -138.0 eps:  0.38889237633347773  loss: tensor(0.0413)\n",
            "-42.2\n",
            "Episode  320 :  reward : 184.0 eps:  0.37738185303589367  loss: tensor(0.0726)\n",
            "-50.2\n",
            "Episode  330 :  reward : 70.0 eps:  0.3662120207743062  loss: tensor(0.0801)\n",
            "-18.4\n",
            "Episode  340 :  reward : -184.0 eps:  0.35537279569944036  loss: tensor(0.0365)\n",
            "7.2\n",
            "Episode  350 :  reward : -50.0 eps:  0.3448543924260414  loss: tensor(0.0916)\n",
            "-35.6\n",
            "Episode  360 :  reward : -284.0 eps:  0.33464731519886964  loss: tensor(0.0140)\n",
            "-112.0\n",
            "Episode  370 :  reward : 10.0 eps:  0.32474234932016743  loss: tensor(0.0769)\n",
            "16.6\n",
            "Episode  380 :  reward : 70.0 eps:  0.3151305528308563  loss: tensor(0.0470)\n",
            "16.2\n",
            "Episode  390 :  reward : -10.0 eps:  0.30580324843795753  loss: tensor(0.0060)\n",
            "-5.6\n",
            "Episode  400 :  reward : -64.0 eps:  0.296752015680945  loss: tensor(0.0245)\n",
            "10.8\n",
            "Episode  410 :  reward : 16.0 eps:  0.2879686833299618  loss: tensor(0.0348)\n",
            "-26.2\n",
            "Episode  420 :  reward : -4.0 eps:  0.2794453220090349  loss: tensor(0.0267)\n",
            "-44.2\n",
            "Episode  430 :  reward : 16.0 eps:  0.2711742370376297  loss: tensor(0.0489)\n",
            "-20.6\n",
            "Episode  440 :  reward : 70.0 eps:  0.26314796148408265  loss: tensor(0.0294)\n",
            "6.0\n",
            "Episode  450 :  reward : 36.0 eps:  0.25535924942463895  loss: tensor(0.0364)\n",
            "-8.2\n",
            "Episode  460 :  reward : 36.0 eps:  0.2478010694020113  loss: tensor(0.0801)\n",
            "9.2\n",
            "Episode  470 :  reward : -24.0 eps:  0.24046659807755363  loss: tensor(0.0444)\n",
            "-52.2\n",
            "Episode  480 :  reward : -18.0 eps:  0.23334921407131903  loss: tensor(0.0179)\n",
            "5.2\n",
            "Episode  490 :  reward : 36.0 eps:  0.22644249198444116  loss: tensor(0.0245)\n",
            "-7.4\n",
            "Episode  500 :  reward : -98.0 eps:  0.21974019659844254  loss: tensor(0.0315)\n",
            "-19.4\n",
            "Episode  510 :  reward : 130.0 eps:  0.21323627724623298  loss: tensor(0.0222)\n",
            "62.2\n",
            "Episode  520 :  reward : 96.0 eps:  0.20692486234971638  loss: tensor(0.0176)\n",
            "34.0\n",
            "Episode  530 :  reward : -38.0 eps:  0.20080025411907482  loss: tensor(0.0036)\n",
            "33.0\n",
            "Episode  540 :  reward : 170.0 eps:  0.19485692340894423  loss: tensor(0.0076)\n",
            "65.4\n",
            "Episode  550 :  reward : 56.0 eps:  0.18908950472683844  loss: tensor(0.0294)\n",
            "74.2\n",
            "Episode  560 :  reward : 116.0 eps:  0.1834927913893146  loss: tensor(0.0161)\n",
            "84.6\n",
            "Episode  570 :  reward : 28.0 eps:  0.1780617308215078  loss: tensor(0.0052)\n",
            "23.6\n",
            "Episode  580 :  reward : -24.0 eps:  0.17279141999579084  loss: tensor(0.0018)\n",
            "36.2\n",
            "Episode  590 :  reward : -132.0 eps:  0.16767710100544203  loss: tensor(0.0096)\n",
            "38.2\n",
            "Episode  600 :  reward : 136.0 eps:  0.16271415676932394  loss: tensor(0.0271)\n",
            "78.0\n",
            "Episode  610 :  reward : 150.0 eps:  0.15789810686369657  loss: tensor(0.0047)\n",
            "79.2\n",
            "Episode  620 :  reward : 76.0 eps:  0.1532246034774011  loss: tensor(0.0094)\n",
            "48.0\n",
            "Episode  630 :  reward : -24.0 eps:  0.1486894274867632  loss: tensor(0.0047)\n",
            "35.0\n",
            "Episode  640 :  reward : 56.0 eps:  0.1442884846466721  loss: tensor(0.0034)\n",
            "73.8\n",
            "Episode  650 :  reward : 130.0 eps:  0.14001780189439708  loss: tensor(0.0246)\n",
            "71.2\n",
            "Episode  660 :  reward : 30.0 eps:  0.13587352376280437  loss: tensor(0.0342)\n",
            "35.0\n",
            "Episode  670 :  reward : 10.0 eps:  0.13185190889973625  loss: tensor(0.0235)\n",
            "36.2\n",
            "Episode  680 :  reward : 56.0 eps:  0.12794932669041076  loss: tensor(0.0444)\n",
            "45.4\n",
            "Episode  690 :  reward : 30.0 eps:  0.12416225397979205  loss: tensor(0.0299)\n",
            "71.8\n",
            "Episode  700 :  reward : -4.0 eps:  0.12048727189197293  loss: tensor(0.0193)\n",
            "0.6\n",
            "Episode  710 :  reward : 16.0 eps:  0.11692106274369779  loss: tensor(0.0179)\n",
            "46.5\n",
            "Episode  720 :  reward : 19.0 eps:  0.11346040704924014  loss: tensor(0.0216)\n",
            "25.1\n",
            "Episode  730 :  reward : 148.0 eps:  0.11010218061393003  loss: tensor(0.0098)\n",
            "93.6\n",
            "Episode  740 :  reward : -4.0 eps:  0.10684335171370828  loss: tensor(0.0211)\n",
            "9.4\n",
            "Episode  750 :  reward : -44.0 eps:  0.10368097835816062  loss: tensor(0.0104)\n",
            "29.4\n",
            "Episode  760 :  reward : 16.0 eps:  0.10061220563456125  loss: tensor(0.0244)\n",
            "34.0\n",
            "Episode  770 :  reward : -4.0 eps:  0.09763426313052807  loss: tensor(0.0126)\n",
            "21.2\n",
            "Episode  780 :  reward : -24.0 eps:  0.09474446243296256  loss: tensor(0.0089)\n",
            "11.4\n",
            "Episode  790 :  reward : -24.0 eps:  0.09194019470101675  loss: tensor(0.0077)\n",
            "24.0\n",
            "Episode  800 :  reward : 36.0 eps:  0.08921892831089603  loss: tensor(0.0048)\n",
            "20.6\n",
            "Episode  810 :  reward : 136.0 eps:  0.08657820657037152  loss: tensor(0.0156)\n",
            "130.0\n",
            "Episode  820 :  reward : 136.0 eps:  0.08401564550093889  loss: tensor(0.0016)\n",
            "118.0\n",
            "Episode  830 :  reward : 96.0 eps:  0.08152893168562139  loss: tensor(0.0038)\n",
            "114.4\n",
            "Episode  840 :  reward : 136.0 eps:  0.07911582018047386  loss: tensor(0.0038)\n",
            "126.0\n",
            "Episode  850 :  reward : 102.0 eps:  0.0767741324879028  loss: tensor(0.0159)\n",
            "122.6\n",
            "Episode  860 :  reward : 136.0 eps:  0.07450175458997244  loss: tensor(0.0229)\n",
            "117.8\n",
            "Episode  870 :  reward : 116.0 eps:  0.07229663503992138  loss: tensor(0.0128)\n",
            "123.2\n",
            "Episode  880 :  reward : 136.0 eps:  0.07015678311016703  loss: tensor(0.0012)\n",
            "126.6\n",
            "Episode  890 :  reward : 102.0 eps:  0.06808026699512584  loss: tensor(0.0145)\n",
            "128.6\n",
            "Episode  900 :  reward : 136.0 eps:  0.0660652120672268  loss: tensor(0.0159)\n",
            "132.0\n",
            "Episode  910 :  reward : 136.0 eps:  0.06410979918454389  loss: tensor(0.0128)\n",
            "132.0\n",
            "Episode  920 :  reward : 110.0 eps:  0.0622122630485196  loss: tensor(0.0230)\n",
            "129.4\n",
            "Episode  930 :  reward : 136.0 eps:  0.06037089061029686  loss: tensor(0.0010)\n",
            "132.0\n",
            "Episode  940 :  reward : 136.0 eps:  0.05858401952422075  loss: tensor(0.0007)\n",
            "124.6\n",
            "Episode  950 :  reward : 116.0 eps:  0.056850036647113855  loss: tensor(0.0107)\n",
            "119.4\n",
            "Episode  960 :  reward : 170.0 eps:  0.05516737658197032  loss: tensor(0.0021)\n",
            "125.4\n",
            "Episode  970 :  reward : 170.0 eps:  0.05353452026475406  loss: tensor(0.0014)\n",
            "126.2\n",
            "Episode  980 :  reward : 116.0 eps:  0.05194999359302514  loss: tensor(0.0022)\n",
            "141.0\n",
            "Episode  990 :  reward : 136.0 eps:  0.050412366095156445  loss: tensor(0.0069)\n",
            "122.0\n",
            "Complete\n"
          ]
        }
      ],
      "source": [
        "num_episodes = 1000\n",
        "\n",
        "policy.reset()\n",
        "\n",
        "rewards_history = []\n",
        "\n",
        "# Warmup phase!\n",
        "memory_filled = False\n",
        "\n",
        "while not memory_filled:\n",
        "    \n",
        "    dave_level1 = Dangerous_Dave()\n",
        "    state = dave_level1.reset()\n",
        "    done = False\n",
        "    \n",
        "    total_reward = 0\n",
        "    \n",
        "    while not done:\n",
        "        \n",
        "        # Get action and act in the world\n",
        "        state_tensor = convert_state(state)\n",
        "        \n",
        "        action = policy(state_tensor)\n",
        "        action_name = index_to_actions[action].name \n",
        "        next_state, reward, done = dave_level1.step(action_name)\n",
        "        \n",
        "        total_reward += float(reward)\n",
        "        \n",
        "        # Observe new state\n",
        "        if done:\n",
        "            next_state = None\n",
        "\n",
        "        # Store the transition in memory\n",
        "        memory.push(state, action, next_state, float(reward))\n",
        "        \n",
        "        state = next_state\n",
        "\n",
        "\n",
        "    memory_filled = memory.capacity == len(memory)\n",
        "\n",
        "print('Done with the warmup')\n",
        "    \n",
        "    \n",
        "for i_episode in range(num_episodes):\n",
        "    \n",
        "    # Same level at every run\n",
        "    dave_level1 = Dangerous_Dave()\n",
        "    state = dave_level1.reset()\n",
        "    done = False\n",
        "    \n",
        "    total_reward = 0\n",
        "    \n",
        "    while not done:\n",
        "        \n",
        "        # Get action and act in the world\n",
        "        state_tensor = convert_state(state)\n",
        "        \n",
        "        action = policy(state_tensor)\n",
        "        action_name = index_to_actions[action].name \n",
        "        next_state, reward, done = dave_level1.step(action_name)\n",
        "        \n",
        "        total_reward += float(reward)\n",
        "        \n",
        "        # Observe new state\n",
        "        if done:\n",
        "            next_state = None\n",
        "\n",
        "        # Store the transition in memory\n",
        "        memory.push(state, action, next_state, float(reward))\n",
        "\n",
        "        # Move to the next state\n",
        "        state = next_state\n",
        "\n",
        "        # Perform one step of the optimization\n",
        "        started_training = True\n",
        "        l = optimize_model()\n",
        "\n",
        "    policy.update_epsilon()\n",
        "    rewards_history.append( float(total_reward) )\n",
        "\n",
        "    \n",
        "    # Update the target network, copying all weights and biases in DQN\n",
        "    if i_episode % TARGET_UPDATE == 0:\n",
        "\n",
        "        Q_target.load_state_dict(Q_network.state_dict())\n",
        "    \n",
        "    if (i_episode) % 10 == 0:\n",
        "        \n",
        "        print('Episode ', i_episode, ': ', 'reward :',  total_reward, 'eps: ', \n",
        "              policy.epsilon, ' loss:', l.detach().cpu())   \n",
        "        print( sum(rewards_history[-10:])/10)    \n",
        "\n",
        "print('Complete')"
      ]
    },
    {
      "cell_type": "code",
      "execution_count": null,
      "metadata": {
        "colab": {
          "base_uri": "https://localhost:8080/"
        },
        "id": "_r2-V7IG7Vbx",
        "outputId": "40d7252c-f2ec-417f-957b-d0b92567a570"
      },
      "outputs": [
        {
          "name": "stdout",
          "output_type": "stream",
          "text": [
            "Mounted at /content/drive\n"
          ]
        }
      ],
      "source": [
        "from google.colab import drive\n",
        "drive.mount('/content/drive')"
      ]
    },
    {
      "cell_type": "code",
      "execution_count": null,
      "metadata": {
        "colab": {
          "base_uri": "https://localhost:8080/",
          "height": 442
        },
        "id": "4z2po62bZczR",
        "outputId": "f739b617-8012-4ec5-be3d-55e901349a5f"
      },
      "outputs": [
        {
          "data": {
            "image/png": "[encoded data removed]",
            "text/plain": [
              "<Figure size 864x504 with 1 Axes>"
            ]
          },
          "metadata": {
            "needs_background": "light"
          },
          "output_type": "display_data"
        }
      ],
      "source": [
        "import seaborn as sns\n",
        "\n",
        "plt.figure(figsize=(12,7))\n",
        "\n",
        "ax = sns.scatterplot(x=\"episodes\", y=\"reward\", data=rewards_history,\n",
        "           alpha=0.5);"
      ]
    },
    {
      "cell_type": "code",
      "execution_count": null,
      "metadata": {
        "id": "AEgLG_MI0o9S"
      },
      "outputs": [],
      "source": []
    },
    {
      "cell_type": "code",
      "execution_count": null,
      "metadata": {
        "id": "_TK0pvZc0o41"
      },
      "outputs": [],
      "source": []
    },
    {
      "cell_type": "code",
      "execution_count": null,
      "metadata": {
        "id": "2zqidDNC0o2D"
      },
      "outputs": [],
      "source": [
        "## Appendix\n",
        "## Appendix\n",
        "## Appendix"
      ]
    },
    {
      "cell_type": "code",
      "execution_count": null,
      "metadata": {
        "colab": {
          "base_uri": "https://localhost:8080/",
          "height": 282
        },
        "id": "AhMqULqVY9YB",
        "outputId": "88eefd3e-3328-427e-8cd1-ef0400dd1556"
      },
      "outputs": [
        {
          "data": {
            "text/plain": [
              "[<matplotlib.lines.Line2D at 0x7f8ca1c34a90>]"
            ]
          },
          "execution_count": 8,
          "metadata": {},
          "output_type": "execute_result"
        },
        {
          "data": {
            "image/png": "[encoded data removed]",
            "text/plain": [
              "<Figure size 432x288 with 1 Axes>"
            ]
          },
          "metadata": {
            "needs_background": "light"
          },
          "output_type": "display_data"
        }
      ],
      "source": [
        "plt.plot(rewards_history['dqn_rewardd'], 'b.', alpha=.1)"
      ]
    },
    {
      "cell_type": "code",
      "execution_count": null,
      "metadata": {
        "colab": {
          "base_uri": "https://localhost:8080/",
          "height": 282
        },
        "id": "jmG7d1lF4FJQ",
        "outputId": "8e16953e-00d5-4415-9110-36c67e57c85d"
      },
      "outputs": [
        {
          "data": {
            "text/plain": [
              "[<matplotlib.lines.Line2D at 0x7f7872d73910>]"
            ]
          },
          "execution_count": 11,
          "metadata": {},
          "output_type": "execute_result"
        },
        {
          "data": {
            "image/png": "[encoded data removed]",
            "text/plain": [
              "<Figure size 432x288 with 1 Axes>"
            ]
          },
          "metadata": {
            "needs_background": "light"
          },
          "output_type": "display_data"
        }
      ],
      "source": [
        "plt.plot(rewards_history, 'b.', alpha=.1)"
      ]
    },
    {
      "cell_type": "code",
      "execution_count": null,
      "metadata": {
        "colab": {
          "base_uri": "https://localhost:8080/",
          "height": 282
        },
        "id": "h6bmx6srKzWo",
        "outputId": "fc9f1474-5252-4fc5-fce6-24878d78b63d"
      },
      "outputs": [
        {
          "data": {
            "text/plain": [
              "[<matplotlib.lines.Line2D at 0x7f1260824650>]"
            ]
          },
          "execution_count": 11,
          "metadata": {},
          "output_type": "execute_result"
        },
        {
          "data": {
            "image/png": "[encoded data removed]",
            "text/plain": [
              "<Figure size 432x288 with 1 Axes>"
            ]
          },
          "metadata": {
            "needs_background": "light"
          },
          "output_type": "display_data"
        }
      ],
      "source": [
        "plt.plot(rewards_history, 'b.', alpha=.1)"
      ]
    },
    {
      "cell_type": "code",
      "execution_count": null,
      "metadata": {
        "id": "WKVPdrTCKzQk"
      },
      "outputs": [],
      "source": []
    },
    {
      "cell_type": "code",
      "execution_count": null,
      "metadata": {
        "id": "2__xFqRFKzLJ"
      },
      "outputs": [],
      "source": [
        "class DQNMLPModel(nn.Module):\n",
        "    def __init__(self, input_size, hidden_size, output_size):\n",
        "        super(DQNMLPModel, self).__init__()\n",
        "        self.input_size = input_size\n",
        "        self.hidden_size = hidden_size\n",
        "        self.output_size = output_size\n",
        "        self.mlp = nn.Sequential(\n",
        "            nn.Linear(self.input_size, self.hidden_size),\n",
        "            nn.ReLU(),\n",
        "            nn.Linear(self.hidden_size, self.hidden_size),\n",
        "            nn.ReLU(),\n",
        "            nn.Linear(self.hidden_size, self.hidden_size),\n",
        "            nn.ReLU())\n",
        "        self.fc_out = nn.Linear(self.hidden_size, self.output_size)\n",
        "\n",
        "    def forward(self, x):\n",
        "        x = x.view(x.size(0), self.input_size)\n",
        "        h = self.mlp(x)\n",
        "        return self.fc_out(h)"
      ]
    },
    {
      "cell_type": "code",
      "execution_count": null,
      "metadata": {
        "id": "M9FAbXNCKzFl"
      },
      "outputs": [],
      "source": [
        "OBS_SIZE = 5*5 + 2\n",
        "HIDDEN_SIZE = 128\n",
        "ACTION_SIZE = 7\n",
        "\n",
        "Q_network = DQNMLPModel(OBS_SIZE, HIDDEN_SIZE, ACTION_SIZE).to(device)\n",
        "Q_target = DQNMLPModel(OBS_SIZE, HIDDEN_SIZE, ACTION_SIZE).to(device)\n",
        "Q_target.load_state_dict(Q_network.state_dict())\n",
        "Q_target.eval()\n",
        "\n",
        "TARGET_UPDATE = 20\n",
        "\n",
        "optimizer = optim.SGD(Q_network.parameters(), lr=0.1)\n",
        "memory = ReplayMemory(10000)\n"
      ]
    },
    {
      "cell_type": "code",
      "execution_count": null,
      "metadata": {
        "id": "2zW9dYBmoYCa"
      },
      "outputs": [],
      "source": [
        "class E_Greedy_Policy():\n",
        "    \n",
        "    def __init__(self, epsilon, decay, min_epsilon):\n",
        "        \n",
        "        self.epsilon = epsilon\n",
        "        self.epsilon_start = epsilon\n",
        "        self.decay = decay\n",
        "        self.epsilon_min = min_epsilon\n",
        "                \n",
        "    def __call__(self, state):\n",
        "                \n",
        "        is_greedy = random.random() > self.epsilon\n",
        "        \n",
        "        if is_greedy :\n",
        "            # we select greedy action\n",
        "            with torch.no_grad():\n",
        "                Q_network.eval()\n",
        "                # index of the maximum over dimension 1.\n",
        "                state = Variable(convert_state(state)/4. , volatile=True).unsqueeze(0)\n",
        "                act_values = self.Qnet(state) \n",
        "                _ , index_action = act_values.data.max(1)\n",
        "                Q_network.train()\n",
        "        else:\n",
        "            # we sample a random action\n",
        "            index_action = random.randint(0,4)\n",
        "#             print(index_action)\n",
        "        \n",
        "        return index_action\n",
        "                \n",
        "    def update_epsilon(self):\n",
        "        \n",
        "        self.epsilon = self.epsilon*self.decay\n",
        "        if self.epsilon < self.epsilon_min:\n",
        "            self.epsilon = self.epsilon_min\n",
        "        \n",
        "    def reset(self):\n",
        "        self.epsilon = self.epsilon_start\n",
        "        \n",
        "        \n",
        "policy = E_Greedy_Policy(0.99, decay=0.997, min_epsilon=0.001)"
      ]
    },
    {
      "cell_type": "code",
      "execution_count": null,
      "metadata": {
        "id": "fYaOTgAwqnmR"
      },
      "outputs": [],
      "source": [
        "BATCH_SIZE = 256\n",
        "GAMMA = 0.5\n",
        "\n",
        "def optimize_model():\n",
        "    \n",
        "    transitions = memory.sample(BATCH_SIZE)\n",
        "    batch = Transition(*zip(*transitions))\n",
        "\n",
        "    # Compute a mask of non-final states and concatenate the batch elements\n",
        "    non_final_mask = torch.tensor(tuple(map(lambda s: s is not None,\n",
        "                                          batch.next_state)), device=device, dtype=torch.bool)\n",
        "    non_final_next_states = torch.cat([s for s in batch.next_state\n",
        "                                                if s is not None])\n",
        "    \n",
        "    state_batch = torch.cat(batch.state)\n",
        "    action_batch = torch.cat(batch.action)\n",
        "    reward_batch = torch.cat(batch.reward)\n",
        "    \n",
        "    # Compute Q values using policy net\n",
        "    Q_values = Q_network(state_batch).gather(1, action_batch)\n",
        "\n",
        "    # Compute next Q values using Q_targets\n",
        "    next_Q_values = torch.zeros( BATCH_SIZE, device=device)\n",
        "    next_Q_values[non_final_mask] = Q_target(non_final_next_states).max(1)[0].detach()\n",
        "    next_Q_values = next_Q_values.unsqueeze(1)\n",
        "    \n",
        "    # Compute targets\n",
        "    target_Q_values = (next_Q_values * GAMMA) + reward_batch\n",
        "    \n",
        "    # Compute MSE Loss\n",
        "    loss = F.mse_loss(Q_values, target_Q_values)\n",
        "    \n",
        "    # Optimize the model\n",
        "    optimizer.zero_grad()\n",
        "    loss.backward()\n",
        "    \n",
        "    # Trick: gradient clipping\n",
        "    for param in Q_network.parameters():\n",
        "        param.grad.data.clamp_(-1, 1)\n",
        "        \n",
        "    optimizer.step()\n",
        "    \n",
        "    return loss"
      ]
    },
    {
      "cell_type": "code",
      "execution_count": null,
      "metadata": {
        "colab": {
          "base_uri": "https://localhost:8080/",
          "height": 375
        },
        "id": "1yBUDL7NKy59",
        "outputId": "bc5d9fba-f08e-477f-8cf4-f1658fef9135"
      },
      "outputs": [],
      "source": [
        "\n",
        "\n",
        "num_episodes = 1000\n",
        "\n",
        "policy.reset()\n",
        "\n",
        "DQNCNNModel_rewards_history = []\n",
        "\n",
        "# Warmup phase!\n",
        "DQNCNNModel_memory_filled = False\n",
        "\n",
        "while not DQNCNNModel_memory_filled:\n",
        "    \n",
        "    dave_level1 = Dangerous_Dave()\n",
        "    state = dave_level1.reset()\n",
        "    done = False\n",
        "    \n",
        "    total_reward = 0\n",
        "    \n",
        "    while not done:\n",
        "        \n",
        "        # Get action and act in the world\n",
        "        state_tensor = Variable(convert_state(state)/ 4. , volatile=True).unsqueeze(0)\n",
        "        \n",
        "        action = policy(state_tensor)\n",
        "        action_name = index_to_actions[action].name \n",
        "        next_state, reward, done = dave_level1.step(action_name)\n",
        "        \n",
        "        total_reward += float(reward)\n",
        "        \n",
        "        # Observe new state\n",
        "        if done:\n",
        "            next_state = Nonea\n",
        "\n",
        "        # Store the transition in memory\n",
        "        memory.push(state, action, next_state, float(reward))\n",
        "        \n",
        "        state = next_state\n",
        "\n",
        "\n",
        "    memory_filled = memory.capacity == len(memory)\n",
        "\n",
        "print('Done with the warmup')\n",
        "    \n",
        "    \n",
        "for i_episode in range(num_episodes):\n",
        "    \n",
        "    # New dungeon at every run\n",
        "    dave_level1 = Dangerous_Dave()\n",
        "    state = dave_level1.reset()\n",
        "    done = False\n",
        "    \n",
        "    total_reward = 0\n",
        "    \n",
        "    while not done:\n",
        "        \n",
        "        # Get action and act in the world\n",
        "        state_tensor = convert_state(state)\n",
        "        \n",
        "        action = policy(state_tensor)\n",
        "        action_name = index_to_actions[action].name \n",
        "        next_state, reward, done = dave_level1.step(action_name)\n",
        "        \n",
        "        total_reward += float(reward)\n",
        "        \n",
        "        # Observe new state\n",
        "        if done:\n",
        "            next_state = None\n",
        "\n",
        "        # Store the transition in memory\n",
        "        memory.push(state, action, next_state, float(reward))\n",
        "\n",
        "        # Move to the next state\n",
        "        state = next_state\n",
        "\n",
        "        # Perform one step of the optimization\n",
        "        started_training = True\n",
        "        l = optimize_model()\n",
        "\n",
        "    policy.update_epsilon()\n",
        "    DQNCNNModel_rewards_history.append( float(total_reward) )\n",
        "\n",
        "    \n",
        "    # Update the target network, copying all weights and biases in DQN\n",
        "    if i_episode % TARGET_UPDATE == 0:\n",
        "\n",
        "        Q_target.load_state_dict(Q_network.state_dict())\n",
        "    \n",
        "    if (i_episode) % 10 == 0:\n",
        "        \n",
        "        print('Episode ', i_episode, ': ', 'reward :',  total_reward, 'eps: ', \n",
        "              policy.epsilon, ' loss:', l.detach().cpu())   \n",
        "        print( sum(DQNCNNModel_rewards_history[-10:])/10)    \n",
        "\n",
        "print('Complete')"
      ]
    },
    {
      "cell_type": "code",
      "execution_count": null,
      "metadata": {
        "id": "6D9ERbq9nuRU"
      },
      "outputs": [],
      "source": []
    },
    {
      "cell_type": "code",
      "execution_count": null,
      "metadata": {
        "id": "hDCE_kovnuIP"
      },
      "outputs": [],
      "source": []
    },
    {
      "cell_type": "code",
      "execution_count": null,
      "metadata": {
        "id": "Xs2y8lQOnuAr"
      },
      "outputs": [],
      "source": []
    },
    {
      "cell_type": "code",
      "execution_count": null,
      "metadata": {
        "id": "OgoLDLBLnt5X"
      },
      "outputs": [],
      "source": []
    },
    {
      "cell_type": "code",
      "execution_count": null,
      "metadata": {
        "colab": {
          "base_uri": "https://localhost:8080/",
          "height": 282
        },
        "id": "bv6RdqggGSQn",
        "outputId": "8156b02e-8463-47cc-884e-7c2d85960b01"
      },
      "outputs": [
        {
          "data": {
            "text/plain": [
              "[<matplotlib.lines.Line2D at 0x7f42d6cf4d10>]"
            ]
          },
          "execution_count": 19,
          "metadata": {},
          "output_type": "execute_result"
        },
        {
          "data": {
            "image/png": "[encoded data removed]",
            "text/plain": [
              "<Figure size 432x288 with 1 Axes>"
            ]
          },
          "metadata": {
            "needs_background": "light"
          },
          "output_type": "display_data"
        }
      ],
      "source": [
        "plt.plot(rewards_history, 'b.', alpha=.1)"
      ]
    },
    {
      "cell_type": "code",
      "execution_count": null,
      "metadata": {
        "colab": {
          "base_uri": "https://localhost:8080/"
        },
        "id": "9Ln-LtelIJ15",
        "outputId": "b5e71e5e-763d-489a-fd07-80735490f944"
      },
      "outputs": [
        {
          "data": {
            "text/plain": [
              "DQN(\n",
              "  (fc1): Linear(in_features=27, out_features=128, bias=True)\n",
              "  (bn1): BatchNorm1d(128, eps=1e-05, momentum=0.1, affine=True, track_running_stats=True)\n",
              "  (fc2): Linear(in_features=128, out_features=128, bias=True)\n",
              "  (bn2): BatchNorm1d(128, eps=1e-05, momentum=0.1, affine=True, track_running_stats=True)\n",
              "  (fc3): Linear(in_features=128, out_features=128, bias=True)\n",
              "  (bn3): BatchNorm1d(128, eps=1e-05, momentum=0.1, affine=True, track_running_stats=True)\n",
              "  (fc4): Linear(in_features=128, out_features=5, bias=True)\n",
              ")"
            ]
          },
          "execution_count": 37,
          "metadata": {},
          "output_type": "execute_result"
        }
      ],
      "source": []
    },
    {
      "cell_type": "code",
      "execution_count": null,
      "metadata": {
        "colab": {
          "base_uri": "https://localhost:8080/"
        },
        "id": "X6JC5XrFUThc",
        "outputId": "16feddf9-476f-4f53-9929-f8dadb2c43f7"
      },
      "outputs": [
        {
          "data": {
            "text/plain": [
              "tensor([[0.0000, 0.6471, 0.2500, 0.0000, 0.0000, 0.0000, 0.0000, 0.2500, 0.0000,\n",
              "         0.0000, 0.0000, 0.2500, 0.2500, 0.2500, 0.0000, 0.0000, 0.0000, 0.2500,\n",
              "         0.2500, 0.2500, 0.2500, 0.2500, 0.2500, 0.2500, 0.2500, 0.2500, 0.2500]],\n",
              "       device='cuda:0', dtype=torch.float64)"
            ]
          },
          "execution_count": 42,
          "metadata": {},
          "output_type": "execute_result"
        }
      ],
      "source": [
        "dave_level1 = Dangerous_Dave()\n",
        "state = dave_level1.reset()\n",
        "convert_state(state)"
      ]
    },
    {
      "cell_type": "code",
      "execution_count": null,
      "metadata": {
        "colab": {
          "base_uri": "https://localhost:8080/"
        },
        "id": "cABOhcG4Ssdv",
        "outputId": "22fe213a-e20c-4d46-8983-13a78b2c0504"
      },
      "outputs": [
        {
          "data": {
            "text/plain": [
              "DQN(\n",
              "  (fc1): Linear(in_features=27, out_features=128, bias=True)\n",
              "  (bn1): BatchNorm1d(128, eps=1e-05, momentum=0.1, affine=True, track_running_stats=True)\n",
              "  (fc2): Linear(in_features=128, out_features=128, bias=True)\n",
              "  (bn2): BatchNorm1d(128, eps=1e-05, momentum=0.1, affine=True, track_running_stats=True)\n",
              "  (fc3): Linear(in_features=128, out_features=128, bias=True)\n",
              "  (bn3): BatchNorm1d(128, eps=1e-05, momentum=0.1, affine=True, track_running_stats=True)\n",
              "  (fc4): Linear(in_features=128, out_features=5, bias=True)\n",
              ")"
            ]
          },
          "execution_count": 48,
          "metadata": {},
          "output_type": "execute_result"
        }
      ],
      "source": [
        "Q_network"
      ]
    },
    {
      "cell_type": "code",
      "execution_count": null,
      "metadata": {
        "id": "Q-Z_5XOWUd5-"
      },
      "outputs": [],
      "source": [
        "def run_single_exp(envir, policy):\n",
        "    \n",
        "    obs = envir.reset()\n",
        "    done = False\n",
        "#     return obs\n",
        "    total_reward = 0\n",
        "    \n",
        "    while not done:\n",
        "        \n",
        "        action = policy(convert_state(obs))\n",
        "        print(action)\n",
        "        obs, reward, done = envir.step(action)\n",
        "        \n",
        "        total_reward += reward\n",
        "    \n",
        "    return total_reward"
      ]
    },
    {
      "cell_type": "code",
      "execution_count": null,
      "metadata": {
        "id": "DssFOWhfYOvj"
      },
      "outputs": [],
      "source": []
    },
    {
      "cell_type": "code",
      "execution_count": null,
      "metadata": {
        "id": "Tkoci1UmYPMx"
      },
      "outputs": [],
      "source": []
    }
  ],
  "metadata": {
    "accelerator": "GPU",
    "colab": {
      "collapsed_sections": [],
      "name": "Coursweork_Dave_DQN_customenvironment.ipynb",
      "provenance": []
    },
    "kernelspec": {
      "display_name": "Python 3",
      "name": "python3"
    },
    "language_info": {
      "name": "python"
    }
  },
  "nbformat": 4,
  "nbformat_minor": 0
}
